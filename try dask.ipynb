{
 "cells": [
  {
   "cell_type": "markdown",
   "metadata": {},
   "source": [
    "## Using dask on a SLURM HPC\n",
    "This notebook demonstrate how we can run tasks in parallel using dask and SLURM \n",
    "\n",
    "### Installing the packages\n",
    "```\n",
    "pip install dask\n",
    "pip install distributed\n",
    "pip install cloudpickle\n",
    "```\n",
    "\n",
    "### Starting the dask cluster. \n",
    "There is a good explanation of how this works on [Matthew Rocklin's blog](http://matthewrocklin.com/blog/work/2016/02/26/dask-distributed-part-3). In summary, we need to \n",
    "\n",
    "1. start `dask-scheduler` on one machine. This is the node python connects to.\n",
    "2. start an arbitrary amound of `dask-worker`s on the cluster using SLURM. \n",
    "\n",
    "#### 1. Starting `dask-scheduler`\n",
    "Fairly simple. Open a shell, type `dask-scheduler`, hit Enter. You are good to go. \n",
    "You will see something like:\n",
    "\n",
    "```\n",
    "distributed.scheduler - INFO - -----------------------------------------------\n",
    "distributed.scheduler - INFO -   Scheduler at:        10.114.185.14:8786  \n",
    "distributed.scheduler - INFO -        http at:        10.114.185.14:9786\n",
    "distributed.bokeh.application - INFO - Web UI: http://10.114.185.14:8787/status/\n",
    "distributed.scheduler - INFO - -----------------------------------------------\n",
    "```\n",
    "\n",
    "You will need the IP and Port listed at *Scheduler at* to connect the workers and to connect from Python. \n",
    "\n",
    "\n",
    "####  2. Starting dask-workers.\n",
    "I prepared a simple shell-script for that. Open a shell, run `./submit-workers.sh <SCHEDULER_HOST> <NUMBER_OF_WORKERS>`. It will submit your workers to slurm. \n",
    "\n",
    "**Example**:\n",
    "In the above case, this would be\n",
    "```\n",
    "./submit-workers.sh 10.114.185.14:8786 10\n",
    "```\n",
    "\n",
    "**Note**: Each worker already uses 8 threads. The above command would therefore reserve you 80 CPUs. You can adjust that and other options in `./start-worker.sh`. "
   ]
  },
  {
   "cell_type": "markdown",
   "metadata": {},
   "source": [
    "### Let's try it"
   ]
  },
  {
   "cell_type": "code",
   "execution_count": 26,
   "metadata": {
    "collapsed": false
   },
   "outputs": [],
   "source": [
    "from distributed import Executor, progress"
   ]
  },
  {
   "cell_type": "code",
   "execution_count": 27,
   "metadata": {
    "collapsed": true
   },
   "outputs": [],
   "source": [
    "e = Executor(\"10.114.185.14:8786\")"
   ]
  },
  {
   "cell_type": "markdown",
   "metadata": {},
   "source": [
    "Dummy function that we want to apply: "
   ]
  },
  {
   "cell_type": "code",
   "execution_count": 24,
   "metadata": {
    "collapsed": true
   },
   "outputs": [],
   "source": [
    "def heavy_stuff(number):\n",
    "    for i in range(1000000):\n",
    "        x = number ** number\n",
    "    return number ** 2"
   ]
  },
  {
   "cell_type": "markdown",
   "metadata": {},
   "source": [
    "Dummy objects:"
   ]
  },
  {
   "cell_type": "code",
   "execution_count": 28,
   "metadata": {
    "collapsed": true
   },
   "outputs": [],
   "source": [
    "objects = [x for x in range(20)]"
   ]
  },
  {
   "cell_type": "markdown",
   "metadata": {},
   "source": [
    "### Running this locally takes some time: "
   ]
  },
  {
   "cell_type": "code",
   "execution_count": 29,
   "metadata": {
    "collapsed": false
   },
   "outputs": [
    {
     "data": {
      "text/plain": [
       "[0,\n",
       " 1,\n",
       " 4,\n",
       " 9,\n",
       " 16,\n",
       " 25,\n",
       " 36,\n",
       " 49,\n",
       " 64,\n",
       " 81,\n",
       " 100,\n",
       " 121,\n",
       " 144,\n",
       " 169,\n",
       " 196,\n",
       " 225,\n",
       " 256,\n",
       " 289,\n",
       " 324,\n",
       " 361]"
      ]
     },
     "execution_count": 29,
     "metadata": {},
     "output_type": "execute_result"
    }
   ],
   "source": [
    "[x for x in map(heavy_stuff, objects)]"
   ]
  },
  {
   "cell_type": "markdown",
   "metadata": {},
   "source": [
    "### Running it on the cluster: "
   ]
  },
  {
   "cell_type": "code",
   "execution_count": 33,
   "metadata": {
    "collapsed": false
   },
   "outputs": [],
   "source": [
    "future = e.map(heavy_stuff, objects)"
   ]
  },
  {
   "cell_type": "code",
   "execution_count": 34,
   "metadata": {
    "collapsed": true
   },
   "outputs": [],
   "source": [
    "progress(future)"
   ]
  },
  {
   "cell_type": "code",
   "execution_count": 35,
   "metadata": {
    "collapsed": false
   },
   "outputs": [
    {
     "data": {
      "text/plain": [
       "[0,\n",
       " 1,\n",
       " 4,\n",
       " 9,\n",
       " 16,\n",
       " 25,\n",
       " 36,\n",
       " 49,\n",
       " 64,\n",
       " 81,\n",
       " 100,\n",
       " 121,\n",
       " 144,\n",
       " 169,\n",
       " 196,\n",
       " 225,\n",
       " 256,\n",
       " 289,\n",
       " 324,\n",
       " 361]"
      ]
     },
     "execution_count": 35,
     "metadata": {},
     "output_type": "execute_result"
    }
   ],
   "source": [
    "[f.result() for f in future]"
   ]
  },
  {
   "cell_type": "code",
   "execution_count": null,
   "metadata": {
    "collapsed": true
   },
   "outputs": [],
   "source": []
  }
 ],
 "metadata": {
  "kernelspec": {
   "display_name": "Python 3",
   "language": "python",
   "name": "python3"
  },
  "language_info": {
   "codemirror_mode": {
    "name": "ipython",
    "version": 3
   },
   "file_extension": ".py",
   "mimetype": "text/x-python",
   "name": "python",
   "nbconvert_exporter": "python",
   "pygments_lexer": "ipython3",
   "version": "3.5.1"
  }
 },
 "nbformat": 4,
 "nbformat_minor": 0
}
